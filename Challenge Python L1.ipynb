{
 "cells": [
  {
   "cell_type": "markdown",
   "id": "sustained-truth",
   "metadata": {},
   "source": [
    "# Challenge Python L1 \n",
    "\n",
    "|  Region | City Name |  Languaje | Time  |\n",
    "|---|---|---|---|\n",
    "|  Africa | Angola  |  AF4F4762F9BD3F0F4A10CAF5B6E63DC4CE543724 | 0.23 ms  |\n",
    "|   |   |   |   |\n",
    "|   |   |   |   |\n",
    "\n",
    "Desarrolle una aplicacion en python que genere la tabla anterior teniendo las siguientes consideraciones:\n",
    "\n",
    "1. De https://rapidapi.com/apilayernet/api/rest-countries-v1, obtenga todas las regiones existentes.\n",
    "2. De https://restcountries.eu/ Obtenga un pais por region apartir de la region optenida del punto 1.\n",
    "3. De https://restcountries.eu/ obtenga el nombre del idioma que habla el pais y encriptelo con SHA1\n",
    "4. En la columna Time ponga el tiempo que tardo en armar la fila (debe ser automatico)\n",
    "5. La tabla debe ser creada en un DataFrame con la libreria PANDAS\n",
    "6. Con funciones de la libreria pandas muestre el tiempo total, el tiempo promedio, el tiempo minimo y el maximo que tardo en procesar toda las filas de la tabla.\n",
    "7. Guarde el resultado en sqlite.\n",
    "8. Genere un Json de la tabla creada y guardelo como data.json\n",
    "9. La prueba debe ser entregada en un repositorio git.\n",
    "\n",
    "\n",
    "**Es un plus si:**\n",
    "* No usa famework\n",
    "* Entrega Test Unitarios\n",
    "* Presenta un diseño de su solucion.\n"
   ]
  },
  {
   "cell_type": "code",
   "execution_count": 1,
   "id": "korean-lottery",
   "metadata": {},
   "outputs": [],
   "source": [
    "# imports\n",
    "import pandas as pd\n",
    "import requests\n",
    "from time import time\n",
    "import hashlib\n",
    "from sqlalchemy import create_engine"
   ]
  },
  {
   "cell_type": "markdown",
   "id": "sophisticated-protein",
   "metadata": {},
   "source": [
    "# Utility"
   ]
  },
  {
   "cell_type": "code",
   "execution_count": 2,
   "id": "sufficient-strike",
   "metadata": {},
   "outputs": [],
   "source": [
    "\n",
    "def get_api_to_df(url, headers):\n",
    "    \"\"\"\n",
    "    Cargar datos del api en un df\n",
    "    \"\"\"\n",
    "    response = requests.request(\"GET\", url, headers=headers)\n",
    "    return pd.DataFrame(response.json())\n",
    "\n",
    "        \n",
    "\n",
    "def count_elapsed_time(region):\n",
    "    \"\"\"\n",
    "    count elapsed time to add a row\n",
    "    \"\"\"\n",
    "    # Start counting.\n",
    "    start_time = time()\n",
    "    # make row\n",
    "    url = \"https://restcountries.eu/rest/v2/region/\" + region.lower() + \"?fields=name;languages\"\n",
    "    first_country_by_region = get_api_to_df(url, {}).head(1)\n",
    "    # Calculate the elapsed time.\n",
    "    first_country_by_region[\"Time\"] = time() - start_time\n",
    "    first_country_by_region[\"Region\"] = region\n",
    "    \n",
    "    return first_country_by_region\n"
   ]
  },
  {
   "cell_type": "markdown",
   "id": "silver-physiology",
   "metadata": {},
   "source": [
    "1. De https://rapidapi.com/apilayernet/api/rest-countries-v1, obtenga todas las regiones existentes."
   ]
  },
  {
   "cell_type": "code",
   "execution_count": 3,
   "id": "sunset-occasion",
   "metadata": {},
   "outputs": [
    {
     "name": "stdout",
     "output_type": "stream",
     "text": [
      "['Asia' 'Europe' 'Africa' 'Oceania' 'Americas' 'Polar']\n"
     ]
    }
   ],
   "source": [
    "\n",
    "headers_rapidapi = {\n",
    "    'x-rapidapi-key': \"dbe2e72308msh570465d7bfe30fap1f97e9jsnc358b8a5def7\",\n",
    "    'x-rapidapi-host': \"restcountries-v1.p.rapidapi.com\"\n",
    "    }\n",
    "\n",
    "df_regions = get_api_to_df(\"https://restcountries-v1.p.rapidapi.com/all?fields=region\",headers_rapidapi)[\"region\"].unique()\n",
    "df_regions = df_regions[df_regions != '']\n",
    "print(df_regions)"
   ]
  },
  {
   "cell_type": "markdown",
   "id": "awful-public",
   "metadata": {},
   "source": [
    "2. De https://restcountries.eu/ Obtenga un pais por region apartir de la region optenida del punto 1.\n",
    "4. En la columna Time ponga el tiempo que tardo en armar la fila (debe ser automatico)\n",
    "5. La tabla debe ser creada en un DataFrame con la libreria PANDAS"
   ]
  },
  {
   "cell_type": "code",
   "execution_count": 4,
   "id": "sophisticated-amsterdam",
   "metadata": {
    "scrolled": true
   },
   "outputs": [
    {
     "data": {
      "text/html": [
       "<div>\n",
       "<style scoped>\n",
       "    .dataframe tbody tr th:only-of-type {\n",
       "        vertical-align: middle;\n",
       "    }\n",
       "\n",
       "    .dataframe tbody tr th {\n",
       "        vertical-align: top;\n",
       "    }\n",
       "\n",
       "    .dataframe thead th {\n",
       "        text-align: right;\n",
       "    }\n",
       "</style>\n",
       "<table border=\"1\" class=\"dataframe\">\n",
       "  <thead>\n",
       "    <tr style=\"text-align: right;\">\n",
       "      <th></th>\n",
       "      <th>Languages</th>\n",
       "      <th>City Name</th>\n",
       "      <th>Time</th>\n",
       "      <th>Region</th>\n",
       "    </tr>\n",
       "  </thead>\n",
       "  <tbody>\n",
       "    <tr>\n",
       "      <th>0</th>\n",
       "      <td>[{'iso639_1': 'ps', 'iso639_2': 'pus', 'name':...</td>\n",
       "      <td>Afghanistan</td>\n",
       "      <td>0.419878</td>\n",
       "      <td>Asia</td>\n",
       "    </tr>\n",
       "    <tr>\n",
       "      <th>0</th>\n",
       "      <td>[{'iso639_1': 'sv', 'iso639_2': 'swe', 'name':...</td>\n",
       "      <td>Åland Islands</td>\n",
       "      <td>0.289528</td>\n",
       "      <td>Europe</td>\n",
       "    </tr>\n",
       "    <tr>\n",
       "      <th>0</th>\n",
       "      <td>[{'iso639_1': 'ar', 'iso639_2': 'ara', 'name':...</td>\n",
       "      <td>Algeria</td>\n",
       "      <td>0.307405</td>\n",
       "      <td>Africa</td>\n",
       "    </tr>\n",
       "    <tr>\n",
       "      <th>0</th>\n",
       "      <td>[{'iso639_1': 'en', 'iso639_2': 'eng', 'name':...</td>\n",
       "      <td>American Samoa</td>\n",
       "      <td>0.444539</td>\n",
       "      <td>Oceania</td>\n",
       "    </tr>\n",
       "    <tr>\n",
       "      <th>0</th>\n",
       "      <td>[{'iso639_1': 'en', 'iso639_2': 'eng', 'name':...</td>\n",
       "      <td>Anguilla</td>\n",
       "      <td>0.284105</td>\n",
       "      <td>Americas</td>\n",
       "    </tr>\n",
       "    <tr>\n",
       "      <th>0</th>\n",
       "      <td>[{'iso639_1': 'en', 'iso639_2': 'eng', 'name':...</td>\n",
       "      <td>Antarctica</td>\n",
       "      <td>0.281040</td>\n",
       "      <td>Polar</td>\n",
       "    </tr>\n",
       "  </tbody>\n",
       "</table>\n",
       "</div>"
      ],
      "text/plain": [
       "                                           Languages       City Name  \\\n",
       "0  [{'iso639_1': 'ps', 'iso639_2': 'pus', 'name':...     Afghanistan   \n",
       "0  [{'iso639_1': 'sv', 'iso639_2': 'swe', 'name':...   Åland Islands   \n",
       "0  [{'iso639_1': 'ar', 'iso639_2': 'ara', 'name':...         Algeria   \n",
       "0  [{'iso639_1': 'en', 'iso639_2': 'eng', 'name':...  American Samoa   \n",
       "0  [{'iso639_1': 'en', 'iso639_2': 'eng', 'name':...        Anguilla   \n",
       "0  [{'iso639_1': 'en', 'iso639_2': 'eng', 'name':...      Antarctica   \n",
       "\n",
       "       Time    Region  \n",
       "0  0.419878      Asia  \n",
       "0  0.289528    Europe  \n",
       "0  0.307405    Africa  \n",
       "0  0.444539   Oceania  \n",
       "0  0.284105  Americas  \n",
       "0  0.281040     Polar  "
      ]
     },
     "execution_count": 4,
     "metadata": {},
     "output_type": "execute_result"
    }
   ],
   "source": [
    "df_countries = pd.DataFrame()\n",
    "\n",
    "for region in df_regions:\n",
    "    first_country_by_region = count_elapsed_time(region).head(1)\n",
    "    df_countries = pd.concat([df_countries,first_country_by_region])\n",
    "\n",
    "df_countries.rename(columns={\"languages\": \"Languages\", \"name\": \"City Name\"},inplace = True)\n",
    "df_countries"
   ]
  },
  {
   "cell_type": "markdown",
   "id": "defensive-silicon",
   "metadata": {},
   "source": [
    "3. De https://restcountries.eu/ obtenga el nombre del idioma que habla el pais y encriptelo con SHA1"
   ]
  },
  {
   "cell_type": "code",
   "execution_count": 5,
   "id": "aquatic-monte",
   "metadata": {},
   "outputs": [
    {
     "data": {
      "text/html": [
       "<div>\n",
       "<style scoped>\n",
       "    .dataframe tbody tr th:only-of-type {\n",
       "        vertical-align: middle;\n",
       "    }\n",
       "\n",
       "    .dataframe tbody tr th {\n",
       "        vertical-align: top;\n",
       "    }\n",
       "\n",
       "    .dataframe thead th {\n",
       "        text-align: right;\n",
       "    }\n",
       "</style>\n",
       "<table border=\"1\" class=\"dataframe\">\n",
       "  <thead>\n",
       "    <tr style=\"text-align: right;\">\n",
       "      <th></th>\n",
       "      <th>Languages</th>\n",
       "      <th>City Name</th>\n",
       "      <th>Time</th>\n",
       "      <th>Region</th>\n",
       "    </tr>\n",
       "  </thead>\n",
       "  <tbody>\n",
       "    <tr>\n",
       "      <th>0</th>\n",
       "      <td>EAEC9694B6F77900441DCF5C40E68BA6AA012859</td>\n",
       "      <td>Afghanistan</td>\n",
       "      <td>0.419878</td>\n",
       "      <td>Asia</td>\n",
       "    </tr>\n",
       "    <tr>\n",
       "      <th>0</th>\n",
       "      <td>1FF639F07C4D48DC20CD42F806D7C08A421E316A</td>\n",
       "      <td>Åland Islands</td>\n",
       "      <td>0.289528</td>\n",
       "      <td>Europe</td>\n",
       "    </tr>\n",
       "    <tr>\n",
       "      <th>0</th>\n",
       "      <td>F937A1DD22E17FED2E633E04C2C116D037596326</td>\n",
       "      <td>Algeria</td>\n",
       "      <td>0.307405</td>\n",
       "      <td>Africa</td>\n",
       "    </tr>\n",
       "    <tr>\n",
       "      <th>0</th>\n",
       "      <td>532EBB6AD7726E1A1CC6FD7906A601CF1411F944</td>\n",
       "      <td>American Samoa</td>\n",
       "      <td>0.444539</td>\n",
       "      <td>Oceania</td>\n",
       "    </tr>\n",
       "    <tr>\n",
       "      <th>0</th>\n",
       "      <td>D763659922F4C5348B508D92346C6AA6901A9440</td>\n",
       "      <td>Anguilla</td>\n",
       "      <td>0.284105</td>\n",
       "      <td>Americas</td>\n",
       "    </tr>\n",
       "    <tr>\n",
       "      <th>0</th>\n",
       "      <td>5EE1CB5FFB3CC7378100144C1633BA990E7B6924</td>\n",
       "      <td>Antarctica</td>\n",
       "      <td>0.281040</td>\n",
       "      <td>Polar</td>\n",
       "    </tr>\n",
       "  </tbody>\n",
       "</table>\n",
       "</div>"
      ],
      "text/plain": [
       "                                  Languages       City Name      Time  \\\n",
       "0  EAEC9694B6F77900441DCF5C40E68BA6AA012859     Afghanistan  0.419878   \n",
       "0  1FF639F07C4D48DC20CD42F806D7C08A421E316A   Åland Islands  0.289528   \n",
       "0  F937A1DD22E17FED2E633E04C2C116D037596326         Algeria  0.307405   \n",
       "0  532EBB6AD7726E1A1CC6FD7906A601CF1411F944  American Samoa  0.444539   \n",
       "0  D763659922F4C5348B508D92346C6AA6901A9440        Anguilla  0.284105   \n",
       "0  5EE1CB5FFB3CC7378100144C1633BA990E7B6924      Antarctica  0.281040   \n",
       "\n",
       "     Region  \n",
       "0      Asia  \n",
       "0    Europe  \n",
       "0    Africa  \n",
       "0   Oceania  \n",
       "0  Americas  \n",
       "0     Polar  "
      ]
     },
     "execution_count": 5,
     "metadata": {},
     "output_type": "execute_result"
    }
   ],
   "source": [
    "df_countries['Languages'] = [hashlib.sha1(str.encode(str(i))).hexdigest().upper() for i in df_countries['Languages']]\n",
    "df_countries"
   ]
  },
  {
   "cell_type": "markdown",
   "id": "charitable-latest",
   "metadata": {},
   "source": [
    "6. Con funciones de la libreria pandas muestre el tiempo total, el tiempo promedio, el tiempo minimo y el maximo que tardo en procesar toda las filas de la tabla."
   ]
  },
  {
   "cell_type": "code",
   "execution_count": 6,
   "id": "fossil-notion",
   "metadata": {},
   "outputs": [
    {
     "data": {
      "text/plain": [
       "count    6.000000\n",
       "mean     0.337749\n",
       "std      0.074147\n",
       "min      0.281040\n",
       "25%      0.285461\n",
       "50%      0.298467\n",
       "75%      0.391760\n",
       "max      0.444539\n",
       "Name: Time, dtype: float64"
      ]
     },
     "execution_count": 6,
     "metadata": {},
     "output_type": "execute_result"
    }
   ],
   "source": [
    "df_countries['Time'].describe()"
   ]
  },
  {
   "cell_type": "markdown",
   "id": "distinguished-rouge",
   "metadata": {},
   "source": [
    "7. Guarde el resultado en sqlite."
   ]
  },
  {
   "cell_type": "code",
   "execution_count": 7,
   "id": "seven-forum",
   "metadata": {},
   "outputs": [
    {
     "data": {
      "text/plain": [
       "[(0, 'EAEC9694B6F77900441DCF5C40E68BA6AA012859', 'Afghanistan', 0.4198777675628662, 'Asia'),\n",
       " (0, '1FF639F07C4D48DC20CD42F806D7C08A421E316A', 'Åland Islands', 0.28952789306640625, 'Europe'),\n",
       " (0, 'F937A1DD22E17FED2E633E04C2C116D037596326', 'Algeria', 0.3074054718017578, 'Africa'),\n",
       " (0, '532EBB6AD7726E1A1CC6FD7906A601CF1411F944', 'American Samoa', 0.44453907012939453, 'Oceania'),\n",
       " (0, 'D763659922F4C5348B508D92346C6AA6901A9440', 'Anguilla', 0.2841048240661621, 'Americas'),\n",
       " (0, '5EE1CB5FFB3CC7378100144C1633BA990E7B6924', 'Antarctica', 0.2810401916503906, 'Polar')]"
      ]
     },
     "execution_count": 7,
     "metadata": {},
     "output_type": "execute_result"
    }
   ],
   "source": [
    "engine = create_engine('sqlite://', echo=False)\n",
    "df_countries.to_sql('countries', con=engine)\n",
    "engine.execute(\"SELECT * FROM countries\").fetchall()"
   ]
  },
  {
   "cell_type": "markdown",
   "id": "final-thesaurus",
   "metadata": {},
   "source": [
    "8. Genere un Json de la tabla creada y guardelo como data.json"
   ]
  },
  {
   "cell_type": "code",
   "execution_count": 8,
   "id": "victorian-remainder",
   "metadata": {},
   "outputs": [],
   "source": [
    "df_countries.to_json(\"data.json\",orient='records')"
   ]
  },
  {
   "cell_type": "markdown",
   "id": "coordinate-italic",
   "metadata": {},
   "source": [
    "Cesar Muricio Dueñas Ruiz\n",
    "\n",
    "# Enjoy!! =)"
   ]
  },
  {
   "cell_type": "code",
   "execution_count": null,
   "id": "compound-tomorrow",
   "metadata": {},
   "outputs": [],
   "source": []
  }
 ],
 "metadata": {
  "kernelspec": {
   "display_name": "Python 3",
   "language": "python",
   "name": "python3"
  },
  "language_info": {
   "codemirror_mode": {
    "name": "ipython",
    "version": 3
   },
   "file_extension": ".py",
   "mimetype": "text/x-python",
   "name": "python",
   "nbconvert_exporter": "python",
   "pygments_lexer": "ipython3",
   "version": "3.8.5"
  }
 },
 "nbformat": 4,
 "nbformat_minor": 5
}
